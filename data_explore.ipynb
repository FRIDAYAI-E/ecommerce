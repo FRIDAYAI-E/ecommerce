{
 "cells": [
  {
   "cell_type": "code",
   "execution_count": 2,
   "metadata": {},
   "outputs": [],
   "source": [
    "#Importing different libraries\n",
    "import pandas as pd\n",
    "import numpy as np\n",
    "import seaborn as sns\n",
    "import matplotlib.pyplot as plt"
   ]
  },
  {
   "cell_type": "code",
   "execution_count": 3,
   "metadata": {},
   "outputs": [],
   "source": [
    "# Load our data\n",
    "\n",
    "features = pd.read_csv(\"./dataset/features.csv\", parse_dates=['Date'])\n",
    "stores = pd.read_csv(\"./dataset/stores.csv\")\n",
    "train = pd.read_csv(\"./dataset/train.csv\", parse_dates=['Date'])\n",
    "test = pd.read_csv(\"./dataset//test.csv\", parse_dates=['Date'])"
   ]
  },
  {
   "cell_type": "code",
   "execution_count": 5,
   "metadata": {},
   "outputs": [
    {
     "name": "stdout",
     "output_type": "stream",
     "text": [
      "(8190, 12)\n",
      "(45, 3)\n",
      "(421570, 5)\n",
      "   Store       Date  Temperature  Fuel_Price  MarkDown1  MarkDown2  MarkDown3  \\\n",
      "0      1 2010-02-05        42.31       2.572        NaN        NaN        NaN   \n",
      "1      1 2010-02-12        38.51       2.548        NaN        NaN        NaN   \n",
      "2      1 2010-02-19        39.93       2.514        NaN        NaN        NaN   \n",
      "\n",
      "   MarkDown4  MarkDown5         CPI  Unemployment  IsHoliday  \n",
      "0        NaN        NaN  211.096358         8.106      False  \n",
      "1        NaN        NaN  211.242170         8.106       True  \n",
      "2        NaN        NaN  211.289143         8.106      False  \n",
      "\n",
      "\n",
      "   Store Type    Size\n",
      "0      1    A  151315\n",
      "1      2    A  202307\n",
      "2      3    B   37392\n",
      "\n",
      "\n",
      "   Store  Dept       Date  Weekly_Sales  IsHoliday\n",
      "0      1     1 2010-02-05      24924.50      False\n",
      "1      1     1 2010-02-12      46039.49       True\n",
      "2      1     1 2010-02-19      41595.55      False\n"
     ]
    }
   ],
   "source": [
    "# Explore into the dataset\n",
    "\n",
    "print(features.shape)\n",
    "print(stores.shape)\n",
    "print(train.shape)\n",
    "\n",
    "# Display the first 3 rows\n",
    "\n",
    "print(features.head(3))\n",
    "print('\\n')\n",
    "print(stores.head(3))\n",
    "print('\\n')\n",
    "print(train.head(3))\n"
   ]
  }
 ],
 "metadata": {
  "interpreter": {
   "hash": "3ca04efdedbfa320920795ff1d31324fc830821a03498d8e66b8c822a6437d7f"
  },
  "kernelspec": {
   "display_name": "Python 3.8.10 64-bit ('friday': conda)",
   "language": "python",
   "name": "python3"
  },
  "language_info": {
   "codemirror_mode": {
    "name": "ipython",
    "version": 3
   },
   "file_extension": ".py",
   "mimetype": "text/x-python",
   "name": "python",
   "nbconvert_exporter": "python",
   "pygments_lexer": "ipython3",
   "version": "3.8.10"
  },
  "orig_nbformat": 4
 },
 "nbformat": 4,
 "nbformat_minor": 2
}
